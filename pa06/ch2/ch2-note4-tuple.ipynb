{
 "metadata": {
  "language_info": {
   "codemirror_mode": {
    "name": "ipython",
    "version": 3
   },
   "file_extension": ".py",
   "mimetype": "text/x-python",
   "name": "python",
   "nbconvert_exporter": "python",
   "pygments_lexer": "ipython3",
   "version": 3
  },
  "orig_nbformat": 2
 },
 "nbformat": 4,
 "nbformat_minor": 2,
 "cells": [
  {
   "source": [
    "# 튜플: tuple 이란?"
   ],
   "cell_type": "markdown",
   "metadata": {}
  },
  {
   "cell_type": "code",
   "execution_count": null,
   "metadata": {},
   "outputs": [],
   "source": [
    "# 리스트는 [ ]으로 둘러싸지만 튜플은 ( )으로 둘러싼다.\n",
    "# 리스트는 그 값의 생성, 삭제, 수정이 가능하지만 튜플은 그 값을 바꿀 수 없다.\n",
    "\n",
    "even = (2, 4, 6, 8)\n",
    "# 여러 가지 튜플\n",
    "t1 = ()  # 튜플 초기화\n",
    "t2 = (1,)\n",
    "t3 = (1, 2, 3)\n",
    "t4 = 1, 2, 3\n",
    "t5 = (\"a\", \"b\", (\"ab\", \"cd\"))\n",
    "# t2 = (1,)처럼 단지 1개의 요소만을 가질 때는 요소 뒤에\n",
    "# 콤마(,)를 반드시 붙여야 한다는 것과\n",
    "# t4 = 1, 2, 3처럼 괄호( )를 생략해도 무방하다.\n",
    "#####################################################\n",
    "#\n",
    "# 튜플의 요소값을 지우거나 변경하려고 하면 어떻게 될까?\n",
    "#\n",
    "# 1. 튜플 요솟값을 삭제하려 할 때\n",
    "t1 = (1, 2, \"a\", \"b\")\n",
    "del t1[0]  # Error\n",
    "#\n",
    "# 2. 튜플 요솟값을 변경하려 할 때\n",
    "#\n",
    "t1[0] = \"c\"  # TypeError\n",
    "#\n",
    "#"
   ]
  },
  {
   "source": [
    "# 튜플: 사용방법"
   ],
   "cell_type": "markdown",
   "metadata": {}
  },
  {
   "source": [
    "#\n",
    "# 인덱싱하기\n",
    "#\n",
    "t1 = (1, 2, \"a\", \"b\")\n",
    "t1[0]\n",
    "t1[3]\n",
    "#\n",
    "# 슬라이싱하기\n",
    "#\n",
    "t1 = (1, 2, \"a\", \"b\")\n",
    "t1[1:]\n",
    "t1[2:-1]  # ('a',)\n",
    "t1[2:]\n",
    "#\n",
    "# 튜플 더하기\n",
    "#\n",
    "t1 = (1, 2, \"a\", \"b\")\n",
    "t2 = (3, 4)\n",
    "t1 + t2\n",
    "#\n",
    "# 튜플 곱하기\n",
    "#\n",
    "t2 = (3, 4)\n",
    "id(t2)\n",
    "t2 * 3\n",
    "id(t2)\n",
    "t2 = t2 * 3\n",
    "id(t2)\n",
    "#\n",
    "# 튜플 길이 구하기\n",
    "#\n",
    "t1 = (1, 2, \"a\", \"b\")\n",
    "len(t1)\n",
    "#\n",
    "#\n",
    "\"\"\"\n",
    "Author: redwoods\n",
    "파이썬 코드: ch2_06_tuple.py\n",
    "\"\"\"\n"
   ],
   "cell_type": "code",
   "metadata": {},
   "execution_count": null,
   "outputs": []
  },
  {
   "cell_type": "code",
   "execution_count": null,
   "metadata": {},
   "outputs": [],
   "source": []
  }
 ]
}