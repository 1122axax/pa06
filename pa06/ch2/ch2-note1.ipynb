{
 "metadata": {
  "language_info": {
   "codemirror_mode": {
    "name": "ipython",
    "version": 3
   },
   "file_extension": ".py",
   "mimetype": "text/x-python",
   "name": "python",
   "nbconvert_exporter": "python",
   "pygments_lexer": "ipython3",
   "version": 3
  },
  "orig_nbformat": 2
 },
 "nbformat": 4,
 "nbformat_minor": 2,
 "cells": [
  {
   "source": [
    "# 숫자형: 정수"
   ],
   "cell_type": "markdown",
   "metadata": {}
  },
  {
   "cell_type": "code",
   "execution_count": null,
   "metadata": {},
   "outputs": [],
   "source": [
    "print(\"숫자형: 정수\")\n",
    "a = 123\n",
    "a = -178\n",
    "a = 0\n"
   ]
  },
  {
   "source": [
    "# 숫자형: 실수"
   ],
   "cell_type": "markdown",
   "metadata": {}
  },
  {
   "cell_type": "code",
   "execution_count": null,
   "metadata": {},
   "outputs": [],
   "source": [
    "print(\"숫자형: 실수\")\n",
    "a = 1.2\n",
    "a = -3.48\n",
    "a = 4.24e10\n",
    "a = 4.24e-10"
   ]
  },
  {
   "source": [
    "# 숫자형: 8진수와 16진수"
   ],
   "cell_type": "markdown",
   "metadata": {}
  },
  {
   "cell_type": "code",
   "execution_count": null,
   "metadata": {},
   "outputs": [],
   "source": [
    "a = 0o177\n",
    "a\n",
    "a = 0x8FF\n",
    "a\n",
    "a = 0xABC\n",
    "a"
   ]
  },
  {
   "source": [
    "# 숫자형: 연산자와 연산"
   ],
   "cell_type": "markdown",
   "metadata": {}
  },
  {
   "cell_type": "code",
   "execution_count": null,
   "metadata": {},
   "outputs": [],
   "source": [
    "a = 3\n",
    "b = 4\n",
    "a + b\n",
    "a * b\n",
    "a / b\n",
    "a ** b\n",
    "a % b\n",
    "a // b\n",
    "\n",
    "14 // 3\n",
    "14 % 3\n",
    "\n",
    "\"\"\"\n",
    "Author: redwoods\n",
    "파이썬 코드: ch2_01_numeric.py\n",
    "\"\"\"\n"
   ]
  },
  {
   "cell_type": "code",
   "execution_count": null,
   "metadata": {},
   "outputs": [],
   "source": []
  }
 ]
}