{
 "metadata": {
  "language_info": {
   "codemirror_mode": {
    "name": "ipython",
    "version": 3
   },
   "file_extension": ".py",
   "mimetype": "text/x-python",
   "name": "python",
   "nbconvert_exporter": "python",
   "pygments_lexer": "ipython3",
   "version": 3
  },
  "orig_nbformat": 2
 },
 "nbformat": 4,
 "nbformat_minor": 2,
 "cells": [
  {
   "source": [
    "# 리스트: list 란?"
   ],
   "cell_type": "markdown",
   "metadata": {}
  },
  {
   "cell_type": "code",
   "execution_count": null,
   "metadata": {},
   "outputs": [],
   "source": [
    "odd = [1, 3, 5, 7, 9]\n",
    "# 여러 가지 리스트\n",
    "a = []   # list 초기화\n",
    "b = [1, 2, 3]\n",
    "c = ['Life', 'is', 'too', 'short']\n",
    "d = [1, 2, 'Life', 'is']\n",
    "e = [1, 2, ['Life', 'is']]\n",
    "\n",
    "# list 초기화\n",
    "a = list()\n",
    "a   # []\n"
   ]
  },
  {
   "source": [
    "# 리스트: 리스트의 인덱싱과 슬라이싱"
   ],
   "cell_type": "markdown",
   "metadata": {}
  },
  {
   "source": [
    "a = [1, 2, 3]\n",
    "a\n",
    "a[0]\n",
    "a[3]\n",
    "a[0]+a[2]\n",
    "a[-1]\n",
    "#\n",
    "a = [1, 2, 3, ['a', 'b', 'c']]\n",
    "a[0]\n",
    "a[3]\n",
    "a[-1]\n",
    "# chaek this: a[0] + a[-1] -> TypeError\n",
    "# Indexing inner list\n",
    "a[-1][0]\n",
    "a[-1][-1]\n"
   ],
   "cell_type": "code",
   "metadata": {},
   "execution_count": null,
   "outputs": []
  },
  {
   "source": [
    "# Indexing of triple list"
   ],
   "cell_type": "markdown",
   "metadata": {}
  },
  {
   "source": [
    "# 삼중 리스트에서 인덱싱하기"
   ],
   "cell_type": "markdown",
   "metadata": {}
  },
  {
   "cell_type": "code",
   "execution_count": null,
   "metadata": {},
   "outputs": [],
   "source": [
    "a = [1, 2, ['a', 'b', ['Life', 'is']]]\n",
    "a[2]\n",
    "a[2][-1]\n",
    "a[2][-1][0]   # 'Life'"
   ]
  },
  {
   "source": [
    "# 리스트의 슬라이싱"
   ],
   "cell_type": "markdown",
   "metadata": {}
  },
  {
   "cell_type": "code",
   "execution_count": null,
   "metadata": {},
   "outputs": [],
   "source": [
    "a = [1, 2, 3, 4, 5]\n",
    "a[0:2]\n",
    "a = \"12345\"\n",
    "a[0:2]\n",
    "#\n",
    "a = [1, 2, 3, 4, 5]\n",
    "a[0:2]\n",
    "a[2:]\n",
    "a[0:4:2]  # a[start:end:step]"
   ]
  },
  {
   "source": [
    "# 중첩된 리스트에서 슬라이싱하기"
   ],
   "cell_type": "markdown",
   "metadata": {}
  },
  {
   "cell_type": "code",
   "execution_count": null,
   "metadata": {},
   "outputs": [],
   "source": [
    "a = [1, 2, 3, ['a', 'b', 'c'], 4, 5]\n",
    "a[2:5]\n",
    "a[3][:2]"
   ]
  },
  {
   "source": [
    "# 리스트: 인덱싱, 슬라이싱 연습"
   ],
   "cell_type": "markdown",
   "metadata": {}
  },
  {
   "cell_type": "code",
   "execution_count": null,
   "metadata": {},
   "outputs": [],
   "source": [
    "x = [1, 2, 3, 4, 5, 6, 7, 8, 9]\n",
    "x[0:3]\n",
    "x[3:]\n",
    "x[:6]\n",
    "x[0:6:2]  # x[:6:2]\n",
    "x[-1]\n",
    "x[-3]\n",
    "x[:-3]\n",
    "x[::-1]\n",
    "x[-3::-1]"
   ]
  },
  {
   "source": [
    "# 리스트: 리스트 연산하기"
   ],
   "cell_type": "markdown",
   "metadata": {}
  },
  {
   "cell_type": "code",
   "execution_count": null,
   "metadata": {},
   "outputs": [],
   "source": [
    "# 리스트 더하기(+)\n",
    "#\n",
    "a = [1, 2, 3]\n",
    "b = [4, 5, 6]\n",
    "a + b\n",
    "#\n",
    "# 리스트 반복하기(*)\n",
    "#\n",
    "a * 3\n",
    "#\n",
    "# 리스트 길이구하기\n",
    "#\n",
    "len(a)\n",
    "#\n",
    "# 초보자가 범하기 쉬운 리스트 연산 오류\n",
    "#\n",
    "a = [1, 2, 3]\n",
    "a[2] + \"hi\"\n",
    "str(a[2]) + \"hi\"\n",
    "#\n",
    "# 리스트의 수정과 삭제\n",
    "#\n",
    "a = [1, 2, 3]\n",
    "a[2] = 4  # list is mutable!!!\n",
    "a\n",
    "\n",
    "#\n",
    "# del 함수 사용해 리스트 요소 삭제하기\n",
    "#\n",
    "a = [1, 2, 3]\n",
    "del a[1]\n",
    "a\n",
    "a = [1, 2, 3, 4, 5]\n",
    "del a[2:]\n",
    "a\n",
    "\n",
    "\"\"\"\n",
    "Author: redwoods\n",
    "파이썬 코드: ch2_04_list.py\n",
    "\"\"\"\n"
   ]
  },
  {
   "cell_type": "code",
   "execution_count": null,
   "metadata": {},
   "outputs": [],
   "source": []
  }
 ]
}