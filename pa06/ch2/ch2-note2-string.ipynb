{
 "metadata": {
  "language_info": {
   "codemirror_mode": {
    "name": "ipython",
    "version": 3
   },
   "file_extension": ".py",
   "mimetype": "text/x-python",
   "name": "python",
   "nbconvert_exporter": "python",
   "pygments_lexer": "ipython3",
   "version": 3
  },
  "orig_nbformat": 2
 },
 "nbformat": 4,
 "nbformat_minor": 2,
 "cells": [
  {
   "source": [
    "# 문자열"
   ],
   "cell_type": "markdown",
   "metadata": {}
  },
  {
   "cell_type": "code",
   "execution_count": null,
   "metadata": {},
   "outputs": [],
   "source": [
    "print(\"문자열: '\")\n",
    "food = \"Python's favorite food is perl\"\n",
    "food\n",
    "\n",
    "food = 'Python's favorite food is perl'  # Error\n",
    "\n",
    "say = '\"Python is very easy.\" he says.'\n",
    "\n",
    "print(\"문자열: \\ 이용\")\n",
    "food = 'Python\\'s favorite food is perl'\n",
    "say = \"\\\"Python is very easy.\\\" he says.\"\n"
   ]
  },
  {
   "source": [
    "# 이스케이프 코드"
   ],
   "cell_type": "markdown",
   "metadata": {}
  },
  {
   "cell_type": "code",
   "execution_count": null,
   "metadata": {},
   "outputs": [],
   "source": [
    "print(\"문자열: 이스케이프 코드 이용\")\n",
    "multiline = \"Life is too short\\nYou need python\"\n",
    "multiline\n",
    "print(multiline)"
   ]
  },
  {
   "source": [
    "# 여러줄 문자열 처리"
   ],
   "cell_type": "markdown",
   "metadata": {}
  },
  {
   "cell_type": "code",
   "execution_count": null,
   "metadata": {},
   "outputs": [],
   "source": [
    "multiline = \"\"\"\n",
    "... Life is too short\n",
    "... You need python\n",
    "... \"\"\"\n",
    "multiline\n",
    "print(multiline)"
   ]
  },
  {
   "source": [
    "# 문자열 연산: 더하기"
   ],
   "cell_type": "markdown",
   "metadata": {}
  },
  {
   "cell_type": "code",
   "execution_count": null,
   "metadata": {},
   "outputs": [],
   "source": [
    "print(\"문자열 연산: 더하기\")\n",
    "head = \"Python\"\n",
    "tail = \" is fun!\"\n",
    "head + tail"
   ]
  },
  {
   "source": [
    "# 문자열 연산: 곱하기"
   ],
   "cell_type": "markdown",
   "metadata": {}
  },
  {
   "cell_type": "code",
   "execution_count": null,
   "metadata": {},
   "outputs": [],
   "source": [
    "a = \"python\"\n",
    "a * 2\n"
   ]
  },
  {
   "source": [
    "# multistring.py"
   ],
   "cell_type": "markdown",
   "metadata": {}
  },
  {
   "cell_type": "code",
   "execution_count": null,
   "metadata": {},
   "outputs": [],
   "source": [
    "print(\"=\" * 50)\n",
    "print(\"I am now coding Python!\")\n",
    "print(\"=\" * 50)"
   ]
  },
  {
   "source": [
    "# 내장함수: len()"
   ],
   "cell_type": "markdown",
   "metadata": {}
  },
  {
   "cell_type": "code",
   "execution_count": null,
   "metadata": {},
   "outputs": [],
   "source": [
    "print(\"문자열 연산: 길이 구하기 - len()\")\n",
    "a = \"Life is too short\"\n",
    "len(a)\n"
   ]
  },
  {
   "source": [
    "## 문자열 인덱싱과 슬라이싱"
   ],
   "cell_type": "markdown",
   "metadata": {}
  },
  {
   "source": [
    "# 문자열: 인덱싱이란"
   ],
   "cell_type": "markdown",
   "metadata": {}
  },
  {
   "cell_type": "code",
   "execution_count": null,
   "metadata": {},
   "outputs": [],
   "source": [
    "print(\"문자열: 인덱싱이란?\")\n",
    "a = \"Life is too short, You need Python\"\n",
    "a[3]\n",
    "a[15]\n"
   ]
  },
  {
   "source": [
    "# \"파이썬은 0부터 숫자를 센다.\""
   ],
   "cell_type": "markdown",
   "metadata": {}
  },
  {
   "source": [
    "# 문자열: 인덱싱 활용"
   ],
   "cell_type": "markdown",
   "metadata": {}
  },
  {
   "cell_type": "code",
   "execution_count": null,
   "metadata": {},
   "outputs": [],
   "source": [
    "print(\"문자열: 인덱싱 활용\")\n",
    "\n",
    "a = \"Life is too short, You need Python\"\n",
    "a[0]\n",
    "\n",
    "a[12]\n",
    "\n",
    "a[-1]\n",
    "\n",
    "# a[-0]\n",
    "a[-2]\n",
    "a[-5]\n",
    "a[-12]\n"
   ]
  },
  {
   "source": [
    "# 문자열: 슬라이싱이란"
   ],
   "cell_type": "markdown",
   "metadata": {}
  },
  {
   "cell_type": "code",
   "execution_count": null,
   "metadata": {},
   "outputs": [],
   "source": [
    "print(\"문자열: 슬라이싱이란?\")\n",
    "a = \"Life is too short, You need Python\"\n",
    "# Life 를 뽑아낼려면 어떻게?\n",
    "b = a[0] + a[1] + a[2] + a[3]  # 문자열 뎌하기 연산\n",
    "b\n",
    "# slicing (슬라이싱)\n",
    "a[0:4]  # 0 <= index < 4\n",
    "\n",
    "a[0:5]\n",
    "a[5:7]\n",
    "a[12:17]\n",
    "# : 의 사용\n",
    "a[:4]\n",
    "a[19:]\n",
    "a[:17]\n",
    "\n",
    "a[:]\n",
    "\n",
    "# a[19:-7] ?\n",
    "a[19:-7]\n"
   ]
  },
  {
   "source": [
    "# 문자열: 슬라이싱 응용"
   ],
   "cell_type": "markdown",
   "metadata": {}
  },
  {
   "cell_type": "code",
   "execution_count": null,
   "metadata": {},
   "outputs": [],
   "source": [
    "a = \"20190909Sunny\"\n",
    "date = a[:8]\n",
    "weather = a[8:]\n",
    "date\n",
    "weather\n",
    "\n",
    "a = \"20190917Rainy\"\n",
    "year = a[:4]\n",
    "day = a[4:8]\n",
    "weather = a[8:]\n",
    "year,day,weather\n"
   ]
  },
  {
   "source": [
    "# \"Pithon\"이라는 문자열을 \"Python\"으로 바꾸려면?"
   ],
   "cell_type": "markdown",
   "metadata": {}
  },
  {
   "cell_type": "code",
   "execution_count": null,
   "metadata": {},
   "outputs": [],
   "source": [
    "a = \"Pithon\"\n",
    "a[1]\n",
    "a[1] = 'y'  # Error (immutable한 자료형)\n",
    "#################\n",
    "a = \"Pithon\"\n",
    "a[:1]\n",
    "a[2:]\n",
    "a[:1] + 'y' + a[2:]  # Python\n",
    "\n",
    "\"\"\"\n",
    "Author: redwoods\n",
    "파이썬 코드: ch2_02_string.py\n",
    "\"\"\"\n"
   ]
  },
  {
   "source": [
    "# 문자열: 포매팅이란?"
   ],
   "cell_type": "markdown",
   "metadata": {}
  },
  {
   "cell_type": "code",
   "execution_count": null,
   "metadata": {},
   "outputs": [],
   "source": [
    "# 1. 숫자 바로 대입\n",
    "\"I eat %d apples.\" % 3\n",
    "\n",
    "# 2. 문자열 바로 대입\n",
    "\"I eat %s apples.\" % \"five\"\n",
    "\n",
    "# 3. 숫자 값을 나타내는 변수로 대입\n",
    "number = 3\n",
    "\"I eat %d apples.\" % number\n",
    "\n",
    "# 4. 2개 이상의 값 넣기\n",
    "number = 10\n",
    "day = \"three\"\n",
    "\"I ate %d apples. so I was sick for %s days.\" % number  # , day   # Error\n",
    "\"I ate %d apples. so I was sick for %s days.\" % (number, day)\n",
    "# 소괄호 안에 콤마(,)로 구분하여 각각의 값을 넣어 준다.\n"
   ]
  },
  {
   "source": [
    "# 문자열: 포맷 코드"
   ],
   "cell_type": "markdown",
   "metadata": {}
  },
  {
   "cell_type": "code",
   "execution_count": null,
   "metadata": {},
   "outputs": [],
   "source": [
    "# %d, %s, %c, %f, %o, %x, %%\n",
    "# %s, 묵시적 형변환\n",
    "\"I have %s apples\" % 3\n",
    "\"rate is %s\" % 3.234\n",
    "\n",
    "\"Error is %d%.\" % 98\n",
    "\"Error is %d%%.\" % 98\n"
   ]
  },
  {
   "source": [
    "# 문자열: 포맷 코드와 숫자 함께 사용하기"
   ],
   "cell_type": "markdown",
   "metadata": {}
  },
  {
   "cell_type": "code",
   "execution_count": null,
   "metadata": {},
   "outputs": [],
   "source": [
    "# 1. 정렬과 공백\n",
    "\"%10s\" % \"hi\"\n",
    "\"%-10sjane.\" % \"hi\"\n",
    "# 2. 소수점 표현하기\n",
    "\"%0.4f\" % 3.42134234\n",
    "\"%10.4f\" % 3.42134234\n"
   ]
  },
  {
   "source": [
    "# 문자열: format 함수를 사용한 포매팅"
   ],
   "cell_type": "markdown",
   "metadata": {}
  },
  {
   "cell_type": "code",
   "execution_count": null,
   "metadata": {},
   "outputs": [],
   "source": [
    "# 1. 숫자 바로 대입하기\n",
    "\"I eat {0} apples\".format(3)\n",
    "\"I eat {0} {1} apples\".format(3, 4)\n",
    "\n",
    "# 2. 문자열 바로 대입하기\n",
    "\"I eat {0} apples\".format(\"five\")\n",
    "\"I eat {0} apples from {1} boxes\".format(\"five\", \"three\")\n",
    "\n",
    "# 3. 숫자 값을 가진 변수로 대입하기\n",
    "number = 3\n",
    "\"I eat {0} apples\".format(number)\n",
    "\"I eat {0} apples\".format(number + 1)\n",
    "\n",
    "# 2개 이상의 값 넣기\n",
    "number = 10\n",
    "day = \"three\"\n",
    "\"I ate {0} apples. so I was sick for {1} days.\".format(number, day)\n",
    "# 이름으로 넣기\n",
    "\"I ate {number} apples. so I was sick for {day} days.\".format(number=10, day=3)\n",
    "# 인덱스와 이름을 혼용해서 넣기\n",
    "\"I ate {0} apples. so I was sick for {day} days.\".format(10, day=3)\n",
    "#\n",
    "######################################\n",
    "# 왼쪽 정렬/ 오른쪽 정렬\n",
    "\"{0:<10}\".format(\"hi\")\n",
    "\"{0:>10}\".format(\"hi\")\n",
    "# 가운데 정렬\n",
    "\"{0:^10}\".format(\"hi\")\n",
    "# 공백 채우기\n",
    "\"{0:=^10}\".format(\"hi\")\n",
    "\"{0:!<10}\".format(\"hi\")\n",
    "# 도전하기\n",
    "# \"{0:<10}{1:>10}\".format(\"hi\",'hcit')\n"
   ]
  },
  {
   "source": [
    "# 소수점 표현하기"
   ],
   "cell_type": "markdown",
   "metadata": {}
  },
  {
   "cell_type": "code",
   "execution_count": null,
   "metadata": {},
   "outputs": [],
   "source": [
    "y = 3.42134234\n",
    "\"{0:0.4f}\".format(y)\n",
    "\"{0:10.4f}\".format(y)"
   ]
  },
  {
   "source": [
    "# { 또는 } 문자 표현하기"
   ],
   "cell_type": "markdown",
   "metadata": {}
  },
  {
   "cell_type": "code",
   "execution_count": null,
   "metadata": {},
   "outputs": [],
   "source": [
    "\"{{ and }}\".format()\n",
    "\n",
    "##########################\n",
    "##### f 문자열 포매팅 #####\n",
    "##### .format() 대체\n",
    "##########################"
   ]
  },
  {
   "source": [
    "# 문자열: f 문자열 포매팅"
   ],
   "cell_type": "markdown",
   "metadata": {}
  },
  {
   "cell_type": "code",
   "execution_count": null,
   "metadata": {},
   "outputs": [],
   "source": [
    "print(\"문자열: f 문자열 포매팅\")\n",
    "name = \"홍길동\"\n",
    "age = 30\n",
    "f\"나의 이름은 {name}입니다. 나이는 {age}입니다.\"\n",
    "\n",
    "age = 30\n",
    "f\"나는 내년이면 {age+1}살이 된다.\"\n",
    "\n",
    "# 딕셔너리는 f 문자열 포매팅에서 다음과 같이 사용\n",
    "d = {\"name\": \"홍길동\", \"age\": 30}\n",
    "f'나의 이름은 {d[\"name\"]}입니다. 나이는 {d[\"age\"]}입니다.'\n",
    "# 정렬\n",
    "f'{\"hi\":<10}'  # 왼쪽 정렬\n",
    "f'{\"hi\":>10}'  # 오른쪽 정렬\n",
    "f'{\"hi\":^10}'  # 가운데 정렬\n",
    "# 공백 채우기\n",
    "y = 3.42134234\n",
    "f\"{y:0.4f}\"  # 소수점 4자리까지만 표현\n",
    "f\"{y:10.4f}\"  # 소수점 4자리까지 표현하고 총 자리수를 10으로 맞춤\n",
    "# { } 문자를 표시\n",
    "f\"{{ and }}\"\n"
   ]
  },
  {
   "source": [
    "# 문자열: 관련 내장 함수들"
   ],
   "cell_type": "markdown",
   "metadata": {}
  },
  {
   "cell_type": "code",
   "execution_count": null,
   "metadata": {},
   "outputs": [],
   "source": [
    "print(\"문자열: 관련 내장 함수들\")\n",
    "# 문자 개수 세기(count)\n",
    "a = \"hobby\"\n",
    "a.count(\"b\")\n",
    "# 위치 알려주기1(find)\n",
    "a = \"Python is the best choice\"\n",
    "a.find(\"b\")\n",
    "a.find(\"k\")  # what value?\n",
    "# 위치 알려주기2(index)\n",
    "a = \"Life is too short\"\n",
    "a.index(\"t\")\n",
    "a.index(\"k\")"
   ]
  },
  {
   "cell_type": "code",
   "execution_count": null,
   "metadata": {},
   "outputs": [],
   "source": [
    "\n",
    "# 문자열 삽입(join)\n",
    "\",\".join(\"abcd\")\n",
    "\",\".join([\"a\", \"b\", \"c\", \"d\"])\n",
    "# 소문자를 대문자로 바꾸기(upper)\n",
    "a = \"hi\"\n",
    "a.upper()\n",
    "# 대문자를 소문자로 바꾸기(lower)\n",
    "a = \"IoT\"\n",
    "a.lower()\n",
    "# 왼쪽 공백 지우기(lstrip)\n",
    "a = \" hi \"\n",
    "a.lstrip()\n",
    "# 오른쪽 공백 지우기(rstrip)\n",
    "a.rstrip()\n",
    "# 양쪽 공백 지우기(strip)\n",
    "a.strip()\n",
    "# 문자열 바꾸기(replace)\n",
    "a = \"Life is too short\"\n",
    "a.replace(\"Life\", \"Your leg\")\n",
    "\n",
    "# 문자열 나누기(split) -> 리스트로 변환하여 반환\n",
    "a = \"Life is too short\"\n",
    "a.split()\n",
    "b = \"a:b:c:d\"\n",
    "b.split(\":\")\n",
    "\n",
    "#### 도전하기 #####\n",
    "# format 함수 또는 f 문자열 포매팅을 이용해서 '!!!python!!!' 문자열을 출력해보시오.\n",
    "\"{0:!^12}\".format(\"python\")\n",
    "f'{\"python\":!^12}'\n",
    "\n",
    "\n",
    "\"\"\"\n",
    "Author: redwoods\n",
    "파이썬 코드: ch2_03_string_formatting.py\n",
    "\"\"\"\n"
   ]
  },
  {
   "cell_type": "code",
   "execution_count": null,
   "metadata": {},
   "outputs": [],
   "source": []
  }
 ]
}