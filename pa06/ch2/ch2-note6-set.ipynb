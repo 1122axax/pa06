{
 "metadata": {
  "language_info": {
   "codemirror_mode": {
    "name": "ipython",
    "version": 3
   },
   "file_extension": ".py",
   "mimetype": "text/x-python",
   "name": "python",
   "nbconvert_exporter": "python",
   "pygments_lexer": "ipython3",
   "version": 3
  },
  "orig_nbformat": 2
 },
 "nbformat": 4,
 "nbformat_minor": 2,
 "cells": [
  {
   "source": [
    "# 집합: 집합(Set)이란?"
   ],
   "cell_type": "markdown",
   "metadata": {}
  },
  {
   "cell_type": "code",
   "execution_count": null,
   "metadata": {},
   "outputs": [],
   "source": [
    "# 집합에 관련된 것을 쉽게 처리하기 위해 만든 자료형\n",
    "# 중복된 값을 허용하지 않는다.\n",
    "#\n",
    "# set 키워드를 사용해서 집합자료형을 만든다.\n",
    "#\n",
    "s1 = set([1, 2, 3])\n",
    "s1\n",
    "s1n = set([1, 2, 3, 2])\n",
    "s1n\n",
    "s2 = set(\"Hello\")\n",
    "s2\n",
    "\n",
    "#\n",
    "# 집합 자료형의 특징\n",
    "# 1. 중복을 허용하지 않는다.\n",
    "# 2. 순서가 없다(Unordered).\n",
    "# *** set 자료형은 순서가 없기(unordered) 때문에 인덱싱으로 값을 얻을 수 없다.\n",
    "#\n",
    "s1 = set([1,2,3])\n",
    "s1[0]\n",
    "l1=list(s1)\n",
    "l1\n",
    "l1[0]\n",
    "#\n",
    "t1=tuple(s1)\n",
    "t1\n",
    "t1[0]\n",
    "#\n",
    "# 교집합, 합집합, 차집합 구하기\n",
    "#\n",
    "s1 = set([1, 2, 3, 4, 5, 6])\n",
    "s2 = set([4, 5, 6, 7, 8, 9])\n",
    "# \n",
    "# 1. 교집합\n",
    "#\n",
    "s1 & s2\n",
    "s1.intersection(s2)\n",
    "# \n",
    "# 2. 합집합\n",
    "#\n",
    "s1 | s2\n",
    "s1.union(s2)\n",
    "# \n",
    "# 3. 차집합\n",
    "#\n",
    "s1 - s2\n",
    "s2 - s1\n",
    "s1.difference(s2)\n",
    "s2.difference(s1)\n",
    "\n",
    "#"
   ]
  },
  {
   "source": [
    "# 집합 (set): 관련 내장 함수들"
   ],
   "cell_type": "markdown",
   "metadata": {}
  },
  {
   "cell_type": "code",
   "execution_count": null,
   "metadata": {},
   "outputs": [],
   "source": [
    "#\n",
    "# 값 1개 추가하기(add)\n",
    "#\n",
    "s1 = set([1, 2, 3])\n",
    "s1.add(4)\n",
    "s1\n",
    "#\n",
    "# 값 여러 개 추가하기(update)\n",
    "#\n",
    "s1 = set([1, 2, 3])\n",
    "s1.update([4,5,6])\n",
    "s1\n",
    "s1.add(5)\n",
    "s1\n",
    "#\n",
    "# 특정 값 제거하기(remove)\n",
    "#\n",
    "s1 = set([1, 2, 3])\n",
    "s1.remove(2)\n",
    "s1\n",
    "#################################################\n",
    "# frozenset()  # immutable set\n",
    "#################################################\n",
    "small_primes = frozenset([2, 3, 5, 7])\n",
    "bigger_primes = frozenset([5, 7, 11])\n",
    "small_primes.add(11)  # we cannot add to a frozenset -> AttributeError\n",
    "\n",
    "small_primes.remove(2)  # neither we can remove -> AttributeError\n",
    "\n",
    "small_primes & bigger_primes  # intersect, union, etc. allowed\n",
    "# frozenset({5, 7})\n",
    "\n",
    "#\n",
    "#\n",
    "\"\"\"\n",
    "Author: redwoods\n",
    "파이썬 코드: ch2_08_set.py\n",
    "\"\"\"\n"
   ]
  },
  {
   "cell_type": "code",
   "execution_count": null,
   "metadata": {},
   "outputs": [],
   "source": []
  }
 ]
}