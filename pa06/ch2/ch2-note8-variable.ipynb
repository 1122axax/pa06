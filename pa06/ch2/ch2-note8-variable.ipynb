{
 "metadata": {
  "language_info": {
   "codemirror_mode": {
    "name": "ipython",
    "version": 3
   },
   "file_extension": ".py",
   "mimetype": "text/x-python",
   "name": "python",
   "nbconvert_exporter": "python",
   "pygments_lexer": "ipython3",
   "version": 3
  },
  "orig_nbformat": 2
 },
 "nbformat": 4,
 "nbformat_minor": 2,
 "cells": [
  {
   "source": [
    "# 변수: 변수란?"
   ],
   "cell_type": "markdown",
   "metadata": {}
  },
  {
   "cell_type": "code",
   "execution_count": null,
   "metadata": {},
   "outputs": [],
   "source": [
    "#\n",
    "# 변수는 자료(값)을 저장하는 공간이다.\n",
    "#\n",
    "a = [1, 2, 3]\n",
    "id(a)  # a 변수가 가리키는 메모리의 주소\n",
    "# list\n",
    "a = [1, 2, 3]\n",
    "id(a)\n",
    "b = a\n",
    "id(a), id(b)\n",
    "a is b\n",
    "a[1] = 4\n",
    "a, b\n",
    "a is b\n",
    "b = [1, 2, 3]\n",
    "id(b)\n",
    "a is b\n",
    "#\n",
    "# b 변수를 생성할 때 a 변수의 값을 가져오면서\n",
    "# a와는 다른 주소를 가리키도록 만들수는 없을까?\n",
    "# 다음 2가지 방법이 있다.\n",
    "#\n",
    "# 1. [:] 이용\n",
    "#\n",
    "a = [1, 2, 3]\n",
    "b = a[:]\n",
    "a[1] = 4\n",
    "a, b\n",
    "#\n",
    "# 2. copy 모듈 이용\n",
    "#\n",
    "a = [1, 2, 3]\n",
    "# from copy import copy\n",
    "b = copy(a)\n",
    "\n",
    "b is a, a is b\n",
    "\n",
    "#\n",
    "# 변수를 만드는 여러 가지 방법\n",
    "#\n",
    "a, b = (\"python\", \"life\")\n",
    "a\n",
    "b\n",
    "a, b\n",
    "\n",
    "[a, b] = [\"python\", \"life\"]\n",
    "a\n",
    "b\n",
    "\n",
    "a = 3\n",
    "b = 5\n",
    "a, b = b, a\n",
    "a\n",
    "b\n",
    "\n",
    "#\n",
    "#\n",
    "\"\"\"\n",
    "Author: redwoods\n",
    "파이썬 코드: ch2_10_variable.py\n",
    "\"\"\"\n"
   ]
  },
  {
   "cell_type": "code",
   "execution_count": null,
   "metadata": {},
   "outputs": [],
   "source": []
  }
 ]
}